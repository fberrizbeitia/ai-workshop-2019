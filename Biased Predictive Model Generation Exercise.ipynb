{
 "cells": [
  {
   "cell_type": "markdown",
   "metadata": {},
   "source": [
    "# Import the dataset \n",
    "First we will import a female-only dataset consisting in close to 3000 hotel reviews."
   ]
  },
  {
   "cell_type": "code",
   "execution_count": 191,
   "metadata": {
    "scrolled": false
   },
   "outputs": [
    {
     "name": "stdout",
     "output_type": "stream",
     "text": [
      "Result: \n",
      "2997 comments have been imported\n"
     ]
    }
   ],
   "source": [
    "#read the file\n",
    "import csv\n",
    "\n",
    "datasetClass = []\n",
    "datasetData = []\n",
    "\n",
    "with open('male-only.csv', 'r', encoding='utf-8') as csvFile:\n",
    "    reader = csv.reader(csvFile,delimiter = ';')\n",
    "    for row in reader:\n",
    "        datasetClass.append( row[0].strip() )\n",
    "        datasetData.append( row[1].strip() )\n",
    "        \n",
    "csvFile.close()\n",
    "\n",
    "print(\"Result: \")\n",
    "print (str(len(datasetClass)) + \" comments have been imported\" )"
   ]
  },
  {
   "cell_type": "code",
   "execution_count": 192,
   "metadata": {},
   "outputs": [],
   "source": [
    "#divide the training dataset to evaluate it\n",
    "cont = 0\n",
    "trainingData = []\n",
    "trainingClass = []\n",
    "\n",
    "testData = []\n",
    "testClass = []\n",
    "\n",
    "for index in range(len(datasetClass)):\n",
    "    if cont % 10 == 0:\n",
    "        testData.append(datasetData[index])\n",
    "        testClass.append(datasetClass[index])\n",
    "    else:\n",
    "        trainingData.append(datasetData[index])\n",
    "        trainingClass.append(datasetClass[index])\n",
    "    cont = cont + 1    "
   ]
  },
  {
   "cell_type": "code",
   "execution_count": 193,
   "metadata": {},
   "outputs": [
    {
     "data": {
      "text/plain": [
       "Pipeline(memory=None,\n",
       "         steps=[('vect',\n",
       "                 CountVectorizer(analyzer='word', binary=False,\n",
       "                                 decode_error='strict',\n",
       "                                 dtype=<class 'numpy.int64'>, encoding='utf-8',\n",
       "                                 input='content', lowercase=True, max_df=1.0,\n",
       "                                 max_features=None, min_df=1,\n",
       "                                 ngram_range=(1, 3), preprocessor=None,\n",
       "                                 stop_words='english', strip_accents=None,\n",
       "                                 token_pattern='(?u)\\\\b\\\\w\\\\w+\\\\b',\n",
       "                                 tokenizer=None, vocabular...\n",
       "                ('clf',\n",
       "                 SGDClassifier(alpha=0.001, average=False, class_weight=None,\n",
       "                               early_stopping=False, epsilon=0.1, eta0=0.0,\n",
       "                               fit_intercept=True, l1_ratio=0.15,\n",
       "                               learning_rate='optimal', loss='hinge',\n",
       "                               max_iter=5, n_iter_no_change=5, n_jobs=None,\n",
       "                               penalty='l2', power_t=0.5, random_state=42,\n",
       "                               shuffle=True, tol=None, validation_fraction=0.1,\n",
       "                               verbose=0, warm_start=False))],\n",
       "         verbose=False)"
      ]
     },
     "execution_count": 193,
     "metadata": {},
     "output_type": "execute_result"
    }
   ],
   "source": [
    "#train the classifier model\n",
    "from sklearn.linear_model import SGDClassifier\n",
    "from sklearn.feature_extraction.text import CountVectorizer\n",
    "from sklearn.feature_extraction.text import TfidfTransformer\n",
    "from sklearn.pipeline import Pipeline\n",
    "\n",
    "text_clf = Pipeline([\n",
    "     ('vect', CountVectorizer(stop_words='english',ngram_range=(1, 3))),\n",
    "     ('tfidf', TfidfTransformer()),\n",
    "     ('clf', SGDClassifier(loss='hinge', penalty='l2',alpha=1e-3, random_state=42,max_iter=5, tol=None)),\n",
    "])\n",
    "\n",
    "text_clf.fit(trainingData,trainingClass)"
   ]
  },
  {
   "cell_type": "code",
   "execution_count": 194,
   "metadata": {},
   "outputs": [
    {
     "name": "stdout",
     "output_type": "stream",
     "text": [
      "--------------------------------------------------------------------------------\n",
      "CASE: \n",
      "--------------------------------------------------------------------------------\n",
      "\n",
      "Accuracy: 0.7233333333333334\n",
      "\n",
      "\n",
      "CONFUSION MATRIX\n",
      "\n",
      "[[91  6  3]\n",
      " [30 29 41]\n",
      " [ 3  0 97]]\n"
     ]
    }
   ],
   "source": [
    "#test the model\n",
    "import numpy as np\n",
    "from sklearn import metrics\n",
    "\n",
    "predicted = text_clf.predict(testData)\n",
    "\n",
    "\n",
    "print(\"--------------------------------------------------------------------------------\")\n",
    "print(\"CASE: \")\n",
    "print(\"--------------------------------------------------------------------------------\")\n",
    "print(\"\")\n",
    "\n",
    "print(\"Accuracy: \" + str(np.mean(predicted == testClass)))\n",
    "\n",
    "print(\"\")\n",
    "print(\"\")\n",
    "print(\"CONFUSION MATRIX\")\n",
    "print(\"\")\n",
    "print(metrics.confusion_matrix(testClass, predicted))\n",
    "\n",
    "\n"
   ]
  },
  {
   "cell_type": "code",
   "execution_count": 195,
   "metadata": {},
   "outputs": [
    {
     "name": "stdout",
     "output_type": "stream",
     "text": [
      "--------------------------------------------------------------------------------\n",
      "CASE: \n",
      "--------------------------------------------------------------------------------\n",
      "\n",
      "Accuracy: 0.98\n",
      "\n",
      "\n",
      "CONFUSION MATRIX\n",
      "\n",
      "[[100   0   0]\n",
      " [  4  94   2]\n",
      " [  0   0 100]]\n",
      "\n",
      "\n"
     ]
    }
   ],
   "source": [
    "#now lets try to predict male comments using our female-only trained model\n",
    "maleOnlydatasetClass = []\n",
    "maleOnlydatasetData = []\n",
    "\n",
    "with open('female-only.csv', 'r', encoding='utf-8') as csvFile:\n",
    "    reader = csv.reader(csvFile,delimiter = ';')\n",
    "    for row in reader:\n",
    "        maleOnlydatasetClass.append( row[0].strip() )\n",
    "        maleOnlydatasetData.append( row[1].strip() )\n",
    "        \n",
    "csvFile.close()\n",
    "\n",
    "\n",
    "testData = []\n",
    "testClass = []\n",
    "\n",
    "for index in range(len(datasetClass)):\n",
    "    if cont % 10 == 0:\n",
    "        testData.append(maleOnlydatasetData[index])\n",
    "        testClass.append(maleOnlydatasetClass[index])\n",
    "    cont = cont + 1   \n",
    "    \n",
    "\n",
    "predicted = text_clf.predict(testData)\n",
    "\n",
    "\n",
    "print(\"--------------------------------------------------------------------------------\")\n",
    "print(\"CASE: \")\n",
    "print(\"--------------------------------------------------------------------------------\")\n",
    "print(\"\")\n",
    "print(\"Accuracy: \" + str(np.mean(predicted == testClass)))\n",
    "print(\"\")\n",
    "print(\"\")\n",
    "\n",
    "print(\"CONFUSION MATRIX\")\n",
    "print(\"\")\n",
    "\n",
    "print(metrics.confusion_matrix(testClass, predicted))\n",
    "\n",
    "print(\"\")\n",
    "print(\"\")\n",
    "\n"
   ]
  },
  {
   "cell_type": "code",
   "execution_count": null,
   "metadata": {},
   "outputs": [],
   "source": []
  }
 ],
 "metadata": {
  "kernelspec": {
   "display_name": "Python 3",
   "language": "python",
   "name": "python3"
  },
  "language_info": {
   "codemirror_mode": {
    "name": "ipython",
    "version": 3
   },
   "file_extension": ".py",
   "mimetype": "text/x-python",
   "name": "python",
   "nbconvert_exporter": "python",
   "pygments_lexer": "ipython3",
   "version": "3.6.5"
  }
 },
 "nbformat": 4,
 "nbformat_minor": 2
}
