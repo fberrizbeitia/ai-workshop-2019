{
 "cells": [
  {
   "cell_type": "markdown",
   "metadata": {},
   "source": [
    "# Import the dataset "
   ]
  },
  {
   "cell_type": "code",
   "execution_count": 10,
   "metadata": {
    "scrolled": false
   },
   "outputs": [
    {
     "name": "stdout",
     "output_type": "stream",
     "text": [
      " I decided to try the Ark Fish Restaurant as whenever I pass it is always very busy  I now realise this is due to how slow the staff are  On arrival  a rather unfriendly member of staff threw some menus at us and walked off  After waiting for almost half an hour we eventually were able to order  The staff were very unhelpful and did not give any wine  food recomendations when asked  I ordered a prawn cocktail starter  which tasted off  I decided not to eat it as was concerned about becoming ill  During this period we had asked three times if our drinks were coming  When I eventually received my wine  it was in a dirty glass and tasted vile  Again we waited and waited for our mains to be brought over  The main was edible at best  The atmosphere was like that of a school canteen and we were so desperate to leave we asked for our bill and decided against risking a dessert  The bill arrived and had a number of items on there which we had ordered and not received  I explained this to the waiter  who tutted and took the bill to resolve the issue  The food came to    and was nowhere near as nice as Wood Fish and Chip shop along the road  I would never return to The Ark and I genuinley believe that it was the worst restaurant I have been to  \n"
     ]
    }
   ],
   "source": [
    "import csv\n",
    "\n",
    "trainingDataset = []\n",
    "\n",
    "with open('female-only.csv', 'r') as csvFile:\n",
    "    reader = csv.reader(csvFile)\n",
    "    for row in reader:\n",
    "        trainingDataset.append(row)\n",
    "        \n",
    "csvFile.close()"
   ]
  },
  {
   "cell_type": "code",
   "execution_count": null,
   "metadata": {},
   "outputs": [],
   "source": []
  }
 ],
 "metadata": {
  "kernelspec": {
   "display_name": "Python 3",
   "language": "python",
   "name": "python3"
  },
  "language_info": {
   "codemirror_mode": {
    "name": "ipython",
    "version": 3
   },
   "file_extension": ".py",
   "mimetype": "text/x-python",
   "name": "python",
   "nbconvert_exporter": "python",
   "pygments_lexer": "ipython3",
   "version": "3.6.5"
  }
 },
 "nbformat": 4,
 "nbformat_minor": 2
}
