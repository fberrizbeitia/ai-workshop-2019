{
 "cells": [
  {
   "cell_type": "markdown",
   "metadata": {},
   "source": [
    "# Text mining as an example of biased predictive modeling\n",
    "\n",
    "In this notebook, we will go thru the basics of text mining and produce a purposely-biased predictive model using machine-learning techniques. \n",
    "\n",
    "For this exercise, we will try to classify hotel reviews into three categories: negative, neutral and positive. Our dataset is segregated by gender: there is female-only dataset and a male-only one. To illustrate how biases can be introduced into a model. We will train our model using the male-only dataset and then test it using female only data. The discrepancy on the overall accuracy will show how a biased sample can compromise the performance and the fairness of the model. \n",
    "\n",
    "## How to classify documents\n",
    "\n",
    "\n",
    "* Load the data\n",
    "* Split the original dataset into two subsets: training(90%) and test(10%)\n",
    "* Generate the model using the training data\n",
    "* Assess the performance of the model using the test dataset.  Usually this is where the work ends if the result are satisfactory.\n",
    "* For our experiment, we will test again with another tagged dataset and compare the result of both tests.\n",
    "\n",
    "<hr>\n",
    "\n",
    "\n",
    "\n"
   ]
  },
  {
   "cell_type": "markdown",
   "metadata": {},
   "source": [
    "![Load the data](images/get.png \"Load the data\") \n",
    "## <center>Load the data </center>"
   ]
  },
  {
   "cell_type": "code",
   "execution_count": null,
   "metadata": {
    "scrolled": false
   },
   "outputs": [],
   "source": [
    "#read the file\n",
    "import csv\n",
    "\n",
    "datasetClass = []\n",
    "datasetData = []\n",
    "\n",
    "with open('male-only-3C.csv', 'r', encoding='utf-8') as csvFile:\n",
    "    reader = csv.reader(csvFile,delimiter = ';')\n",
    "    for row in reader:\n",
    "        datasetClass.append( row[0].strip() )\n",
    "        datasetData.append( row[1].strip() )\n",
    "        \n",
    "csvFile.close()\n",
    "\n",
    "print(\"Result: \")\n",
    "print (str(len(datasetClass)) + \" comments have been imported\" )"
   ]
  },
  {
   "cell_type": "markdown",
   "metadata": {},
   "source": [
    "![Split](images/pizza.png \"Split the dataset\") \n",
    "## <center>Split the original dataset into two subsets: training (90%) and test (10%) </center>"
   ]
  },
  {
   "cell_type": "code",
   "execution_count": null,
   "metadata": {},
   "outputs": [],
   "source": [
    "#divide the training dataset to evaluate it\n",
    "cont = 0\n",
    "trainingData = []\n",
    "trainingClass = []\n",
    "\n",
    "testData = []\n",
    "testClass = []\n",
    "\n",
    "for index in range(len(datasetClass)):\n",
    "    if cont % 10 == 0:\n",
    "        testData.append(datasetData[index])\n",
    "        testClass.append(datasetClass[index])\n",
    "    else:\n",
    "        trainingData.append(datasetData[index])\n",
    "        trainingClass.append(datasetClass[index])\n",
    "    cont = cont + 1 \n",
    "    \n",
    "print(\"Result: \")\n",
    "print (\"Dataset divided\")"
   ]
  },
  {
   "cell_type": "markdown",
   "metadata": {},
   "source": [
    "![Generate](images/generate.png \"Generate\") \n",
    "## <center>Generate the model using the training data</center>"
   ]
  },
  {
   "cell_type": "code",
   "execution_count": null,
   "metadata": {},
   "outputs": [],
   "source": [
    "#train the classifier model\n",
    "from sklearn.naive_bayes import MultinomialNB\n",
    "from sklearn.feature_extraction.text import CountVectorizer\n",
    "from sklearn.feature_extraction.text import TfidfTransformer\n",
    "from sklearn.pipeline import Pipeline\n",
    "\n",
    "text_clf = Pipeline([\n",
    "     ('vect', CountVectorizer(stop_words='english',ngram_range=(1, 3))),\n",
    "     ('tfidf', TfidfTransformer()),\n",
    "     ('clf',MultinomialNB()),\n",
    "])\n",
    "\n",
    "r = text_clf.fit(trainingData,trainingClass)\n",
    "print(\"Result: \")\n",
    "print (\"Model Generated\")"
   ]
  },
  {
   "cell_type": "markdown",
   "metadata": {},
   "source": [
    "![Test](images/report.png \"Test\") \n",
    "## <center>Assess the performance of the model using the test dataset</center>"
   ]
  },
  {
   "cell_type": "code",
   "execution_count": null,
   "metadata": {},
   "outputs": [],
   "source": [
    "#test the model\n",
    "import numpy as np\n",
    "from sklearn import metrics\n",
    "\n",
    "predicted = text_clf.predict(testData)\n",
    "\n",
    "\n",
    "print(\"--------------------------------------------------------------------------------\")\n",
    "print(\"CASE: MALE-ONLY TRAINING SET / MALE-ONLY TEST SET\")\n",
    "print(\"--------------------------------------------------------------------------------\")\n",
    "print(\"\")\n",
    "\n",
    "print(\"Accuracy: \" + str(np.mean(predicted == testClass)))\n",
    "\n",
    "print(\"\")\n",
    "print(\"\")\n",
    "print(\"CONFUSION MATRIX\")\n",
    "print(\"\")\n",
    "print(metrics.confusion_matrix(testClass, predicted))"
   ]
  },
  {
   "cell_type": "markdown",
   "metadata": {},
   "source": [
    "![Compare](images/compare.png \"Compare\") \n",
    "## <center>Test again with another tagged dataset (Female-Only) </center>"
   ]
  },
  {
   "cell_type": "code",
   "execution_count": null,
   "metadata": {},
   "outputs": [],
   "source": [
    "#now lets try to predict male comments using our female-only trained model\n",
    "compDatasetClass = []\n",
    "compDatasetData = []\n",
    "\n",
    "with open('female-only-3C.csv', 'r', encoding='utf-8') as csvFile:\n",
    "    reader = csv.reader(csvFile,delimiter = ';')\n",
    "    for row in reader:\n",
    "        compDatasetClass.append( row[0].strip() )\n",
    "        compDatasetData.append( row[1].strip() )\n",
    "        \n",
    "csvFile.close()\n",
    "\n",
    "\n",
    "compTestData = []\n",
    "compTestClass = []\n",
    "\n",
    "cont = 0\n",
    "\n",
    "for index in range(len(compDatasetData)):\n",
    "    if cont % 10 == 0:\n",
    "        compTestData.append(compDatasetData[index])\n",
    "        compTestClass.append(compDatasetClass[index])\n",
    "    cont = cont + 1   \n",
    "    \n",
    "\n",
    "compPredicted = text_clf.predict(compTestData)\n",
    "\n",
    "print(\"--------------------------------------------------------------------------------\")\n",
    "print(\"CASE: MALE-ONLY TRAINING SET / FEMALE-ONLY TEST SET\")\n",
    "print(\"--------------------------------------------------------------------------------\")\n",
    "\n",
    "print(\"Accuracy: \" + str(np.mean(compPredicted == compTestClass)))\n",
    "print(\"\")\n",
    "print(\"\")\n",
    "print(\"CONFUSION MATRIX\")\n",
    "print(\"\")\n",
    "print(metrics.confusion_matrix(compTestClass, compPredicted))\n"
   ]
  }
 ],
 "metadata": {
  "kernelspec": {
   "display_name": "Python 3",
   "language": "python",
   "name": "python3"
  },
  "language_info": {
   "codemirror_mode": {
    "name": "ipython",
    "version": 3
   },
   "file_extension": ".py",
   "mimetype": "text/x-python",
   "name": "python",
   "nbconvert_exporter": "python",
   "pygments_lexer": "ipython3",
   "version": "3.6.5"
  }
 },
 "nbformat": 4,
 "nbformat_minor": 2
}
